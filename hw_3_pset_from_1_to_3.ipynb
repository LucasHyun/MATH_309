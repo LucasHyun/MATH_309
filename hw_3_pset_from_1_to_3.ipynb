{
 "cells": [
  {
   "metadata": {
    "ExecuteTime": {
     "end_time": "2024-09-30T20:30:10.881927Z",
     "start_time": "2024-09-30T20:30:10.638989Z"
    }
   },
   "cell_type": "code",
   "source": [
    "import numpy as np\n",
    "import matplotlib.pyplot as plt"
   ],
   "id": "c8044199f63c182c",
   "outputs": [],
   "execution_count": 4
  },
  {
   "metadata": {},
   "cell_type": "markdown",
   "source": "Naive Method(Problem 1)",
   "id": "4e7bf41b080f697a"
  },
  {
   "metadata": {
    "ExecuteTime": {
     "end_time": "2024-09-30T20:29:41.293645Z",
     "start_time": "2024-09-30T20:29:41.288950Z"
    }
   },
   "cell_type": "code",
   "source": [
    "# x, y pair\n",
    "data_point = [(0, 3), (5, 8), (10, -2), (15, 9)]\n",
    "data_x = [data_point[i][0] for i in range(len(data_point))]\n",
    "data_y = [data_point[i][1] for i in range(len(data_point))]"
   ],
   "id": "76fba149ff4533ac",
   "outputs": [],
   "execution_count": 2
  },
  {
   "metadata": {
    "ExecuteTime": {
     "end_time": "2024-09-30T20:30:12.639693Z",
     "start_time": "2024-09-30T20:30:12.633637Z"
    }
   },
   "cell_type": "code",
   "source": [
    "#find the coefficients of the polynomial\n",
    "\n",
    "def naive_interpolation(x, y):\n",
    "    '''\n",
    "        x: list of x values\n",
    "        y: list of y values\n",
    "        co_eff: list of coefficients of the polynomial\n",
    "    '''\n",
    "    #set up the Vandermonde matrix\n",
    "    n = len(x) #get the length of x values\n",
    "    V = np.zeros((n, n)) #Initialize the vandermonde matrix. np.zeros(n, n) => n x n matrix with zeros!\n",
    "    for i in range(n):\n",
    "        for j in range(n):\n",
    "            V[i][j] = x[i] ** j #fill in the vandermonde matrix with x values raised to the power of j\n",
    "    co_eff = np.linalg.solve(V, y) #calculate the coefficients. (ax = b) using numpy linear algebra solver\n",
    "    return co_eff\n",
    "\n",
    "#print the coefficients from naive interpolation\n",
    "\n",
    "co_eff = naive_interpolation(data_x, data_y)\n",
    "print(co_eff)"
   ],
   "id": "6f32baad81c834ba",
   "outputs": [
    {
     "name": "stdout",
     "output_type": "stream",
     "text": [
      "[ 3.     4.9   -1.02   0.048]\n"
     ]
    }
   ],
   "execution_count": 5
  },
  {
   "metadata": {
    "ExecuteTime": {
     "end_time": "2024-09-30T20:30:29.954113Z",
     "start_time": "2024-09-30T20:30:29.936639Z"
    }
   },
   "cell_type": "code",
   "source": [
    "#Write the function to evaluate the polynomial. a is the coefficients array, and x is ghe point to evaluate.\n",
    "#You can't use the built-in 'polyval' function here, but I recommend using it to check if yourcode is correct.\n",
    "\n",
    "\n",
    "def my_poly_eval(a, x):\n",
    "    '''\n",
    "        a: coefficients of the polynomial\n",
    "        x: point to evaluate\n",
    "    '''\n",
    "    n = len(a) #get the length of the coefficients\n",
    "    y = 0\n",
    "    for i in range(n):\n",
    "        y += a[i] * (x ** i) #evaluate the polynomial\n",
    "    return y\n",
    "\n",
    "#check my_poly_eval function with the built-in polyval function\n",
    "\n",
    "print(my_poly_eval(co_eff, 5)) #ascending order (coefficients)\n",
    "\n",
    "print(np.polyval(co_eff[::-1], 5)) #descedning order (coefficients) -> That's the reason why I reversed the coefficients array.\n",
    "\n",
    "#Evaluate the polynomials at points x = [0: .5: 15], and plot the curve.\n",
    "eval_x = np.arange(0, 15.5, 0.5) #generate the x values from 0 to 15 with 0.5 step size\n",
    "\n",
    "#evaluate the polynomial at the given x values\n",
    "eval_y = [my_poly_eval(co_eff, x) for x in eval_x]\n",
    "for i in range(len(eval_x)):\n",
    "    print(eval_y[i])"
   ],
   "id": "75ac151ba0133865",
   "outputs": [
    {
     "name": "stdout",
     "output_type": "stream",
     "text": [
      "8.0\n",
      "8.0\n",
      "3.0\n",
      "5.2010000000000005\n",
      "6.928000000000001\n",
      "8.217000000000002\n",
      "9.104000000000001\n",
      "9.625\n",
      "9.816000000000003\n",
      "9.713000000000001\n",
      "9.352\n",
      "8.768999999999998\n",
      "8.0\n",
      "7.081000000000002\n",
      "6.048000000000007\n",
      "4.937000000000003\n",
      "3.783999999999999\n",
      "2.625\n",
      "1.4960000000000022\n",
      "0.43299999999999983\n",
      "-0.5280000000000058\n",
      "-1.350999999999999\n",
      "-2.0\n",
      "-2.438999999999993\n",
      "-2.631999999999998\n",
      "-2.5430000000000206\n",
      "-2.1359999999999815\n",
      "-1.375\n",
      "-0.22399999999998954\n",
      "1.3529999999999944\n",
      "3.391999999999996\n",
      "5.929000000000002\n",
      "9.0\n"
     ]
    }
   ],
   "execution_count": 6
  },
  {
   "metadata": {
    "ExecuteTime": {
     "end_time": "2024-09-30T20:31:11.631070Z",
     "start_time": "2024-09-30T20:31:11.494108Z"
    }
   },
   "cell_type": "code",
   "source": [
    "#plot the curve using matplotlib\n",
    "plt.plot(eval_x, eval_y)\n",
    "# plt.show()\n",
    "plt.title('Naive Interpolation')\n",
    "plt.xlabel('x')\n",
    "plt.ylabel('y')\n",
    "plt.savefig('naive_interpolation.png')\n",
    "plt.show()\n",
    "plt.clf()"
   ],
   "id": "ab4c2d09565cb0e",
   "outputs": [
    {
     "data": {
      "text/plain": [
       "<Figure size 640x480 with 1 Axes>"
      ],
      "image/png": "[encoded data removed]"
     },
     "metadata": {},
     "output_type": "display_data"
    },
    {
     "data": {
      "text/plain": [
       "<Figure size 640x480 with 0 Axes>"
      ]
     },
     "metadata": {},
     "output_type": "display_data"
    }
   ],
   "execution_count": 8
  },
  {
   "metadata": {},
   "cell_type": "markdown",
   "source": "Problem2. The Lagrange Method",
   "id": "f95d647b3ea25dd7"
  },
  {
   "metadata": {
    "ExecuteTime": {
     "end_time": "2024-09-30T20:32:37.070672Z",
     "start_time": "2024-09-30T20:32:37.062131Z"
    }
   },
   "cell_type": "code",
   "source": [
    "#langrange polynomials. Using the same data set, write a function that return the polynomials using the Lagrange algorithm.\n",
    "\n",
    "#return the polynomial\n",
    "def my_langrange(x, y, x_val):\n",
    "    '''\n",
    "        x: list of x values\n",
    "        y: list of y values\n",
    "        x_val: point to evaluate\n",
    "    '''\n",
    "    n = len(x) #get the length of x values\n",
    "    y_val = 0\n",
    "    for i in range(n):\n",
    "        l = 1\n",
    "        for j in range(n):\n",
    "            if i != j:\n",
    "                l *= (x_val - x[j]) / (x[i] - x[j]) #calculate the lagrange polynomial\n",
    "        y_val += l * y[i] #evaluate the lagrange polynomial\n",
    "    return y_val\n",
    "\n",
    "lagrange_poly = my_langrange(data_x, data_y, 5) # \n",
    "print(lagrange_poly)\n",
    "\n",
    "#Use the same data set, and code Newton's divided difference."
   ],
   "id": "2eda38818d9dc525",
   "outputs": [
    {
     "name": "stdout",
     "output_type": "stream",
     "text": [
      "8.0\n"
     ]
    }
   ],
   "execution_count": 9
  },
  {
   "metadata": {
    "ExecuteTime": {
     "end_time": "2024-09-30T20:33:16.835970Z",
     "start_time": "2024-09-30T20:33:16.826953Z"
    }
   },
   "cell_type": "code",
   "source": [
    "''' Problem 3. Newton's Divided Difference Method'''\n",
    "\n",
    "def newton_divided_difference(x, y):\n",
    "    '''\n",
    "    Calculates the coefficients of the Newton polynomial using divided differences.\n",
    "\n",
    "    x: list of x values\n",
    "    y: list of y values\n",
    "    Returns: list of coefficients of the polynomial\n",
    "    '''\n",
    "    n = len(x)\n",
    "    F = np.zeros((n, n))\n",
    "    for i in range(n):\n",
    "        F[i][0] = y[i]\n",
    "    for i in range(1, n):\n",
    "        for j in range(1, i + 1):\n",
    "            F[i][j] = (F[i][j - 1] - F[i - 1][j - 1]) / (x[i] - x[i - j])\n",
    "    co_eff = [F[i][i] for i in range(n)]\n",
    "    return co_eff\n",
    "\n",
    "\n",
    "def newton_polynomial(co_eff, x_values, x):\n",
    "    '''\n",
    "    Evaluates the Newton polynomial at a given x.\n",
    "\n",
    "    co_eff: coefficients of the Newton polynomial\n",
    "    x_values: original x values used to generate the polynomial\n",
    "    x: point at which to evaluate the polynomial\n",
    "    Returns: y value at the given x\n",
    "    '''\n",
    "    n = len(x_values)\n",
    "    result = co_eff[0]\n",
    "    for i in range(1, n):\n",
    "        term = co_eff[i]\n",
    "        for j in range(i):\n",
    "            term *= (x - x_values[j])\n",
    "        result += term\n",
    "    return result\n",
    "\n",
    "co_effs = newton_divided_difference(data_x, data_y)\n",
    "\n",
    "eval_y_newton = [newton_polynomial(co_effs, data_x, x) for x in eval_x]\n",
    "print(eval_y_newton)"
   ],
   "id": "d7b53967e8218ae2",
   "outputs": [
    {
     "name": "stdout",
     "output_type": "stream",
     "text": [
      "[np.float64(3.0), np.float64(5.201), np.float64(6.928), np.float64(8.216999999999999), np.float64(9.104), np.float64(9.625), np.float64(9.815999999999999), np.float64(9.713), np.float64(9.352), np.float64(8.769), np.float64(8.0), np.float64(7.0809999999999995), np.float64(6.048), np.float64(4.937), np.float64(3.784), np.float64(2.625), np.float64(1.4960000000000004), np.float64(0.4330000000000007), np.float64(-0.5279999999999989), np.float64(-1.351000000000001), np.float64(-2.0), np.float64(-2.438999999999999), np.float64(-2.631999999999997), np.float64(-2.5429999999999975), np.float64(-2.1359999999999957), np.float64(-1.375), np.float64(-0.2240000000000002), np.float64(1.3530000000000015), np.float64(3.391999999999996), np.float64(5.929000000000009), np.float64(9.0)]\n"
     ]
    }
   ],
   "execution_count": 11
  }
 ],
 "metadata": {
  "kernelspec": {
   "display_name": "Python 3",
   "language": "python",
   "name": "python3"
  },
  "language_info": {
   "codemirror_mode": {
    "name": "ipython",
    "version": 2
   },
   "file_extension": ".py",
   "mimetype": "text/x-python",
   "name": "python",
   "nbconvert_exporter": "python",
   "pygments_lexer": "ipython2",
   "version": "2.7.6"
  }
 },
 "nbformat": 4,
 "nbformat_minor": 5
}
